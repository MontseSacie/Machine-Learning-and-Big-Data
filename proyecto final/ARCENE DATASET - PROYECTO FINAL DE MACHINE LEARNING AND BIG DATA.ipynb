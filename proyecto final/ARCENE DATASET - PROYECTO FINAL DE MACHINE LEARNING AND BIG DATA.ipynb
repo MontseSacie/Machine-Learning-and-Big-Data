{
 "cells": [
  {
   "cell_type": "markdown",
   "metadata": {},
   "source": [
    "# TRATAMIENTO DE LOS EJEMPLOS DE ENTRENAMIENTO"
   ]
  },
  {
   "cell_type": "markdown",
   "metadata": {},
   "source": [
    "## EXTRACCIÓN DE LOS DATOS OFRECIDOS"
   ]
  },
  {
   "cell_type": "markdown",
   "metadata": {},
   "source": [
    "**ARCENE** es la conjunción de varios Data set originales que formaron parte del proyecto científico de de detección del cancer de ovarios y próstata.\n",
    "\n",
    "De los 900 registros de pacientes o ejemplos de los que disoponemos, 100 son destinados a ser ejemplos de entrenamiento para nuestro clasificador.\n"
   ]
  },
  {
   "cell_type": "markdown",
   "metadata": {},
   "source": [
    "Cada uno de los registros de personas están formados por 10.000 características o atributos, de las cuales 3000 se añadieron de forma adicional y no tienen valor para la predcción de nuestro sistema.\n",
    "Las variables de entrada de los  ejemplos de entrenamiento se encuentran almacenados en el archivo ***\"arcene_train.data\"*** y las etiquetas de salida esperada para cada uno de ellos las obtenemos de ***\"arcene_train.labels\".***"
   ]
  },
  {
   "cell_type": "markdown",
   "metadata": {},
   "source": [
    "Enlace a la descripción de las matrices con los datos de entrada [arcene.param](https://archive.ics.uci.edu/ml/machine-learning-databases/arcene/ARCENE/arcene.param)"
   ]
  },
  {
   "cell_type": "markdown",
   "metadata": {},
   "source": [
    " ### Paso 1- lectura de los data-set ofrecidos."
   ]
  },
  {
   "cell_type": "code",
   "execution_count": 1,
   "metadata": {},
   "outputs": [],
   "source": [
    "import matplotlib.pyplot as plt\n",
    "import numpy as np\n",
    "from pandas.io.parsers import read_csv\n",
    "import scipy.optimize as opt\n",
    "from sklearn.preprocessing import PolynomialFeatures as pf\n",
    "from scipy.io import loadmat\n",
    "from sklearn import decomposition\n",
    "#import pdb; pdb.set_trace()"
   ]
  },
  {
   "cell_type": "code",
   "execution_count": 2,
   "metadata": {},
   "outputs": [],
   "source": [
    "def loadMatrix(file):\n",
    "    return np.loadtxt(file)"
   ]
  },
  {
   "cell_type": "code",
   "execution_count": 3,
   "metadata": {},
   "outputs": [],
   "source": [
    "def lectura_Train_Set():\n",
    "    X = loadMatrix('arcene_train.data')\n",
    "    y = loadMatrix('arcene_train.labels')\n",
    "    return X, y"
   ]
  },
  {
   "cell_type": "code",
   "execution_count": 4,
   "metadata": {},
   "outputs": [
    {
     "data": {
      "text/plain": [
       "(array([[  0.,  71.,   0., ...,   0.,   0., 524.],\n",
       "        [  0.,  41.,  82., ...,   0., 284., 423.],\n",
       "        [  0.,   0.,   1., ...,   0.,  34., 508.],\n",
       "        ...,\n",
       "        [  2.,  15.,  48., ...,   0.,   0., 453.],\n",
       "        [  8.,   0.,  38., ...,   0., 189., 403.],\n",
       "        [  0.,   0.,   0., ...,   0.,  10., 365.]]),\n",
       " array([ 1., -1.,  1.,  1., -1., -1.,  1., -1., -1., -1., -1.,  1., -1.,\n",
       "         1., -1.,  1., -1., -1., -1., -1., -1., -1., -1.,  1., -1., -1.,\n",
       "         1., -1.,  1., -1.,  1.,  1.,  1., -1., -1.,  1., -1., -1.,  1.,\n",
       "        -1.,  1., -1., -1.,  1., -1., -1., -1., -1.,  1.,  1., -1.,  1.,\n",
       "        -1., -1.,  1., -1.,  1.,  1.,  1., -1.,  1.,  1., -1.,  1., -1.,\n",
       "        -1., -1., -1.,  1.,  1., -1.,  1., -1., -1.,  1., -1., -1.,  1.,\n",
       "        -1.,  1.,  1.,  1., -1.,  1.,  1., -1.,  1.,  1., -1., -1.,  1.,\n",
       "        -1.,  1.,  1., -1., -1., -1.,  1., -1.,  1.]))"
      ]
     },
     "execution_count": 4,
     "metadata": {},
     "output_type": "execute_result"
    }
   ],
   "source": [
    "lectura_Train_Set()\n",
    "# A continuación se aprecia el tamaño de la matriz de datos de entrada y los valores de esta junto con los \n",
    "#labels correspondientes"
   ]
  },
  {
   "cell_type": "markdown",
   "metadata": {},
   "source": [
    "### Paso 2 - Selección de la técnica de aprendizaje automático"
   ]
  },
  {
   "cell_type": "markdown",
   "metadata": {},
   "source": [
    "En la asignatura de Machine Learning hemos visto las siguientes técnicas de entrenamiento para la clasificación de unos datos de entrada en dos o varios grupos o clusters:\n",
    "\n",
    " "
   ]
  },
  {
   "cell_type": "markdown",
   "metadata": {},
   "source": [
    "**1 Regresión lineal con varias variables**\n",
    "\n",
    "**2 Regresión logística**\n",
    "\n",
    "    1 Redes Neuronales\n",
    "\n",
    "    2 Support Vector Machines(SVM)\n",
    "\n",
    "    3 Clustering(k-means algorithms) "
   ]
  },
  {
   "cell_type": "markdown",
   "metadata": {},
   "source": [
    "Para decidir qué técnica usar nos puede ayudar representar los datos de entrada para observar gráficamente su distribución"
   ]
  },
  {
   "cell_type": "code",
   "execution_count": 5,
   "metadata": {},
   "outputs": [],
   "source": [
    "def grafic_train_examples_representation(X, y):\n",
    "    pos = np.where(y == 1)\n",
    "    pos0 = np.where(y == 0)\n",
    "    plt.scatter(X[pos,0], X[pos,1], marker='+', c='k')\n",
    "    plt.scatter(X[pos0,0], X[pos0,1], marker='o', c='g')\n",
    "    plt.show()"
   ]
  },
  {
   "cell_type": "code",
   "execution_count": 6,
   "metadata": {},
   "outputs": [
    {
     "data": {
      "image/png": "[encoded data removed]",
      "text/plain": [
       "<Figure size 432x288 with 1 Axes>"
      ]
     },
     "metadata": {
      "needs_background": "light"
     },
     "output_type": "display_data"
    }
   ],
   "source": [
    "X, y = lectura_Train_Set()\n",
    "grafic_train_examples_representation(X, y)"
   ]
  },
  {
   "cell_type": "markdown",
   "metadata": {},
   "source": [
    "Como se puede observar a simple vista, los datos no se distribuyen de forma lineal, descartando así la regresión lineal para su clasificación.\n",
    "Regresión logística nos será útil y la aplicaremos como técnica para entrenar una red neuronal y para calcular los support vector Machines de nuestro problema . Esto nos permitirá comparar ambas técnicas y analizar el porcentaje de acierto respecto a los ejemplos de entrenamiento de un mecanismo y de otro.\n",
    "Por otro lado clustering se aplica cuando disponemos de los datos de entrada X pero no de los datos de salida y para el entrenamiento, de modo que tampoco necesitamos aplicar una técnica de entrenamiento no supervisado"
   ]
  },
  {
   "cell_type": "markdown",
   "metadata": {},
   "source": [
    "#### Redes Neuronales"
   ]
  },
  {
   "cell_type": "markdown",
   "metadata": {},
   "source": [
    "Para aprender los valores de θ óptimos , primero les damos unos valores aleatorios de partida en la función ***\"pesos aleatorios\"*** y si aplicamos la función optimize de sklearn dentro de la función ***\"parametros\"*** que minimice el error J(θ). Los θ que den lugar a ese valor óptimo del coste, serán los usados para predecir los ejemplos seleccionados para el test."
   ]
  },
  {
   "cell_type": "code",
   "execution_count": 7,
   "metadata": {},
   "outputs": [],
   "source": [
    "def pesosAleatorios(L_in, L_out):\n",
    "    epsilon = 6**(0.5) / (L_in + L_out)\n",
    "    return np.random.rand(L_in, L_out + 1) * 2 * epsilon - epsilon"
   ]
  },
  {
   "cell_type": "code",
   "execution_count": 8,
   "metadata": {},
   "outputs": [],
   "source": [
    "def parametros(params, input_size, hidden_size, num_labels, X, y, reg):\n",
    "    result = opt.minimize(fun=backprop, x0=params,\n",
    "                         args=(input_size, hidden_size,\n",
    "                         num_labels, X, y, reg),\n",
    "                         method='TNC', jac=False,\n",
    "                         options={'maxiter': 70})\n",
    "    return result.x"
   ]
  },
  {
   "cell_type": "markdown",
   "metadata": {},
   "source": [
    "Funciones auxiliares para el backprop de la red neuronal"
   ]
  },
  {
   "cell_type": "code",
   "execution_count": 9,
   "metadata": {},
   "outputs": [],
   "source": [
    "def saveMatrix(file, X):\n",
    "    return np.savetxt(file, X)"
   ]
  },
  {
   "cell_type": "code",
   "execution_count": 10,
   "metadata": {},
   "outputs": [],
   "source": [
    "def sigmoide(z):\n",
    "    return 1 / (1 + np.exp(-1*z))"
   ]
  },
  {
   "cell_type": "code",
   "execution_count": 11,
   "metadata": {},
   "outputs": [],
   "source": [
    "def derivadaSigmoide(z):\n",
    "    return sigmoide(z)*(1-sigmoide(z))"
   ]
  },
  {
   "cell_type": "code",
   "execution_count": 12,
   "metadata": {},
   "outputs": [],
   "source": [
    "def backprop(params_rn, num_entradas, num_ocultas , num_etiquetas , X, y, reg):\n",
    "    \n",
    "    theta1 = np.reshape(params_rn[:num_ocultas*(num_entradas + 1)], (num_ocultas, (num_entradas + 1)))\n",
    "    theta2 = np.reshape(params_rn[num_ocultas*(num_entradas + 1):], (num_etiquetas, (num_ocultas + 1)))\n",
    "    m = len(X)\n",
    "   #Input\n",
    "    ones_columns_input = np.array(np.ones(m))\n",
    "    a1 = np.insert(X, 0,ones_columns_input, axis = 1)\n",
    "    \n",
    "    #hidden_layer\n",
    "    z2 = np.dot(theta1, a1.transpose())\n",
    "    a2 = sigmoide(z2)\n",
    "    one_columns_hidden = np.array(np.ones(m))\n",
    "    a2 = np.insert(a2, 0, one_columns_hidden, axis = 0)\n",
    "                                  \n",
    "    #Output_layer\n",
    "    z3 = np.dot(theta2, a2)\n",
    "    h = sigmoide(z3)\n",
    "    y_converted = (np.ravel(y) + 1)/2\n",
    "    \n",
    "     #Cost\n",
    "    regulation = (reg/(2*m)) * (np.sum(theta1**2) + np.sum(theta2**2))\n",
    "    J = np.sum(-y_converted * np.log(h) - (1 - y_converted)*np.log(1 - h)) * (1/m)\n",
    "    J_regulated = J + regulation\n",
    "    \n",
    "    # Retro-Propagation\n",
    "    d3 = h - y_converted\n",
    "    z2 = np.insert(z2, 0, np.ones(m), axis = 0)\n",
    "    z2prima = derivadaSigmoide(z2)\n",
    "    d2 = (np.dot(theta2.transpose(), d3))*z2prima\n",
    "    \n",
    "    #Gradient\n",
    "    delta2 = np.dot(d3,a2.transpose())\n",
    "    delta1 = np.dot(d2, a1)\n",
    "                                  \n",
    "    #Regularization\n",
    "    \n",
    "    D1 = (delta1[1:,:]/m + theta1*reg/m).ravel()\n",
    "    D2 = (delta2/m + theta2*reg/m).ravel()\n",
    "    gradient = np.r_[D1, D2]\n",
    "    \n",
    "    return J_regulated, gradient"
   ]
  },
  {
   "cell_type": "code",
   "execution_count": 13,
   "metadata": {},
   "outputs": [],
   "source": [
    "def forwards(params, X, num_entradas, num_ocultas, num_etiquetas):\n",
    "    theta1 = np.reshape(params[:num_ocultas*(num_entradas + 1)], (num_ocultas, (num_entradas + 1)))\n",
    "    theta2 = np.reshape(params[num_ocultas*(num_entradas + 1):], (num_etiquetas, (num_ocultas + 1)))\n",
    "    m = len(X)\n",
    "    #Input\n",
    "    ones_columns_input = np.array(np.ones(m))\n",
    "    a1 = np.insert(X, 0,ones_columns_input, axis = 1)\n",
    "    #hidden_layer\n",
    "    z2 = np.dot(theta1, a1.transpose())\n",
    "    a2 = sigmoide(z2)\n",
    "    one_columns_hidden = np.array(np.ones(m))\n",
    "    a2 = np.insert(a2, 0, one_columns_hidden, axis = 0)\n",
    "    #Output_layer\n",
    "    z3 = np.dot(theta2, a2)\n",
    "    return sigmoide(z3)"
   ]
  },
  {
   "cell_type": "code",
   "execution_count": 14,
   "metadata": {},
   "outputs": [],
   "source": [
    "def evaluacion(params, X, Y, num_entradas, num_ocultas, num_etiquetas):\n",
    "    h = forwards(params,X,num_entradas,num_ocultas,num_etiquetas)\n",
    "    z = (np.ravel(h) >= 0.5)\n",
    "    Y = (np.ravel(Y) + 1)/2\n",
    "    z = map((lambda x,y: x == y), z, Y)\n",
    "    print (Y)\n",
    "    print (z)\n",
    "    return np.ravel(sum(z)/float(len(z))*100)[0]"
   ]
  },
  {
   "cell_type": "code",
   "execution_count": 15,
   "metadata": {},
   "outputs": [],
   "source": [
    "def bestRegresion(theta1, theta2, num_entradas, num_ocultas, num_etiquetas, X, y, bound_left, bound_right, iterations):\n",
    "    regs = np.linspace(bound_left, bound_right, num=iterations)\n",
    "    params = np.concatenate((np.ravel(theta1), np.ravel(theta2)))\n",
    "    sol = []\n",
    "    for i in regs:\n",
    "        gradiente = parametros(params, num_entradas, num_ocultas, num_etiquetas, X, y, i)\n",
    "        e = evaluacion(gradiente, X, y, num_entradas, num_ocultas, num_etiquetas)\n",
    "        sol += [(i, e)]\n",
    "    return sol"
   ]
  },
  {
   "cell_type": "code",
   "execution_count": 16,
   "metadata": {},
   "outputs": [],
   "source": [
    "def crossValidation(params, num_entradas, num_ocultas, num_etiquetas):\n",
    "    X = loadMatrix('arcene_valid.data')\n",
    "    pca = decomposition.PCA(n_components=100)\n",
    "    pca.fit(X)\n",
    "    #X = pca.transform(X)\n",
    "    h = forwards(params, X, num_entradas, num_ocultas, num_etiquetas)\n",
    "    z = (np.ravel(h) >= 0.5)\n",
    "    return np.ravel(sum(z)/float(len(z))*100)[0]"
   ]
  },
  {
   "cell_type": "code",
   "execution_count": 21,
   "metadata": {},
   "outputs": [],
   "source": [
    "def test():\n",
    "    reg = 10\n",
    "    X = loadMatrix('arcene_train.data')\n",
    "\n",
    "    pca = decomposition.PCA(n_components=100)\n",
    "    pca.fit(X)\n",
    "    #X = pca.transform(X)\n",
    "\n",
    "    y = loadMatrix('arcene_train.labels')\n",
    "    y = y.astype(int)\n",
    "    num_entradas = X.shape[1]\n",
    "    num_ocultas = 350\n",
    "    num_etiquetas = 1\n",
    "\n",
    "    theta1 = pesosAleatorios(num_ocultas, X.shape[1])\n",
    "    theta2 = pesosAleatorios(num_etiquetas, num_ocultas)\n",
    "    #saveMatrix('theta1.out', theta1)\n",
    "    #saveMatrix('theta2.out', theta2)\n",
    "\n",
    "    #theta1 = loadMatrix('theta1.out')\n",
    "    #theta2 = loadMatrix('theta2.out')\n",
    "    cvX = loadMatrix('arcene_valid.data')\n",
    "    cvY = loadMatrix('arcene_valid.labels').astype(int)\n",
    "    pca.fit(cvX)\n",
    "    #cvX = pca.transform(cvX)\n",
    "    #print bestRegresion(theta1, theta2, num_entradas, num_ocultas, num_etiquetas, X, y, 20, 40.0, 3)\n",
    "    \n",
    "    #coste, gradiente = backprop(np.concatenate((np.ravel(theta1), np.ravel(theta2))), num_entradas, num_ocultas, num_etiquetas, X, y, reg)\n",
    "\n",
    "    pesos = np.concatenate((np.ravel(theta1), np.ravel(theta2)))\n",
    "    for i in range(1, int(len(X)/2)):\n",
    "        print (i)\n",
    "        pesos = parametros(pesos, num_entradas, num_ocultas, num_etiquetas, X[0:i*2], y[0:i*2], reg)\n",
    "        Jt = backprop(pesos, num_entradas, num_ocultas, num_etiquetas, X[0:i*2], y[0:i*2], reg)[0]\n",
    "        Jcv = backprop(pesos, num_entradas, num_ocultas, num_etiquetas, cvX[0:i*2], cvY[0:i*2], reg)[0]\n",
    "        print (Jt, Jcv, Jt - Jcv)\n",
    "        \n",
    "    print (evaluacion(pesos, X, y, num_entradas, num_ocultas, num_etiquetas))\n",
    "    print (evaluacion(pesos, cvX, cvY, num_entradas, num_ocultas, num_etiquetas))\n",
    "    #saveMatrix('weights.out', pesos)"
   ]
  },
  {
   "cell_type": "code",
   "execution_count": 22,
   "metadata": {},
   "outputs": [
    {
     "name": "stdout",
     "output_type": "stream",
     "text": [
      "1\n"
     ]
    },
    {
     "ename": "TypeError",
     "evalue": "unsupported operand type(s) for -: 'tuple' and 'tuple'",
     "output_type": "error",
     "traceback": [
      "\u001b[1;31m---------------------------------------------------------------------------\u001b[0m",
      "\u001b[1;31mTypeError\u001b[0m                                 Traceback (most recent call last)",
      "\u001b[1;32m<ipython-input-22-fbd55f77ab7c>\u001b[0m in \u001b[0;36m<module>\u001b[1;34m()\u001b[0m\n\u001b[1;32m----> 1\u001b[1;33m \u001b[0mtest\u001b[0m\u001b[1;33m(\u001b[0m\u001b[1;33m)\u001b[0m\u001b[1;33m\u001b[0m\u001b[0m\n\u001b[0m",
      "\u001b[1;32m<ipython-input-21-a25934bca3e5>\u001b[0m in \u001b[0;36mtest\u001b[1;34m()\u001b[0m\n\u001b[0;32m     31\u001b[0m     \u001b[1;32mfor\u001b[0m \u001b[0mi\u001b[0m \u001b[1;32min\u001b[0m \u001b[0mrange\u001b[0m\u001b[1;33m(\u001b[0m\u001b[1;36m1\u001b[0m\u001b[1;33m,\u001b[0m \u001b[0mint\u001b[0m\u001b[1;33m(\u001b[0m\u001b[0mlen\u001b[0m\u001b[1;33m(\u001b[0m\u001b[0mX\u001b[0m\u001b[1;33m)\u001b[0m\u001b[1;33m/\u001b[0m\u001b[1;36m2\u001b[0m\u001b[1;33m)\u001b[0m\u001b[1;33m)\u001b[0m\u001b[1;33m:\u001b[0m\u001b[1;33m\u001b[0m\u001b[0m\n\u001b[0;32m     32\u001b[0m         \u001b[0mprint\u001b[0m \u001b[1;33m(\u001b[0m\u001b[0mi\u001b[0m\u001b[1;33m)\u001b[0m\u001b[1;33m\u001b[0m\u001b[0m\n\u001b[1;32m---> 33\u001b[1;33m         \u001b[0mpesos\u001b[0m \u001b[1;33m=\u001b[0m \u001b[0mparametros\u001b[0m\u001b[1;33m(\u001b[0m\u001b[0mpesos\u001b[0m\u001b[1;33m,\u001b[0m \u001b[0mnum_entradas\u001b[0m\u001b[1;33m,\u001b[0m \u001b[0mnum_ocultas\u001b[0m\u001b[1;33m,\u001b[0m \u001b[0mnum_etiquetas\u001b[0m\u001b[1;33m,\u001b[0m \u001b[0mX\u001b[0m\u001b[1;33m[\u001b[0m\u001b[1;36m0\u001b[0m\u001b[1;33m:\u001b[0m\u001b[0mi\u001b[0m\u001b[1;33m*\u001b[0m\u001b[1;36m2\u001b[0m\u001b[1;33m]\u001b[0m\u001b[1;33m,\u001b[0m \u001b[0my\u001b[0m\u001b[1;33m[\u001b[0m\u001b[1;36m0\u001b[0m\u001b[1;33m:\u001b[0m\u001b[0mi\u001b[0m\u001b[1;33m*\u001b[0m\u001b[1;36m2\u001b[0m\u001b[1;33m]\u001b[0m\u001b[1;33m,\u001b[0m \u001b[0mreg\u001b[0m\u001b[1;33m)\u001b[0m\u001b[1;33m\u001b[0m\u001b[0m\n\u001b[0m\u001b[0;32m     34\u001b[0m         \u001b[0mJt\u001b[0m \u001b[1;33m=\u001b[0m \u001b[0mbackprop\u001b[0m\u001b[1;33m(\u001b[0m\u001b[0mpesos\u001b[0m\u001b[1;33m,\u001b[0m \u001b[0mnum_entradas\u001b[0m\u001b[1;33m,\u001b[0m \u001b[0mnum_ocultas\u001b[0m\u001b[1;33m,\u001b[0m \u001b[0mnum_etiquetas\u001b[0m\u001b[1;33m,\u001b[0m \u001b[0mX\u001b[0m\u001b[1;33m[\u001b[0m\u001b[1;36m0\u001b[0m\u001b[1;33m:\u001b[0m\u001b[0mi\u001b[0m\u001b[1;33m*\u001b[0m\u001b[1;36m2\u001b[0m\u001b[1;33m]\u001b[0m\u001b[1;33m,\u001b[0m \u001b[0my\u001b[0m\u001b[1;33m[\u001b[0m\u001b[1;36m0\u001b[0m\u001b[1;33m:\u001b[0m\u001b[0mi\u001b[0m\u001b[1;33m*\u001b[0m\u001b[1;36m2\u001b[0m\u001b[1;33m]\u001b[0m\u001b[1;33m,\u001b[0m \u001b[0mreg\u001b[0m\u001b[1;33m)\u001b[0m\u001b[1;33m[\u001b[0m\u001b[1;36m0\u001b[0m\u001b[1;33m]\u001b[0m\u001b[1;33m\u001b[0m\u001b[0m\n\u001b[0;32m     35\u001b[0m         \u001b[0mJcv\u001b[0m \u001b[1;33m=\u001b[0m \u001b[0mbackprop\u001b[0m\u001b[1;33m(\u001b[0m\u001b[0mpesos\u001b[0m\u001b[1;33m,\u001b[0m \u001b[0mnum_entradas\u001b[0m\u001b[1;33m,\u001b[0m \u001b[0mnum_ocultas\u001b[0m\u001b[1;33m,\u001b[0m \u001b[0mnum_etiquetas\u001b[0m\u001b[1;33m,\u001b[0m \u001b[0mcvX\u001b[0m\u001b[1;33m[\u001b[0m\u001b[1;36m0\u001b[0m\u001b[1;33m:\u001b[0m\u001b[0mi\u001b[0m\u001b[1;33m*\u001b[0m\u001b[1;36m2\u001b[0m\u001b[1;33m]\u001b[0m\u001b[1;33m,\u001b[0m \u001b[0mcvY\u001b[0m\u001b[1;33m[\u001b[0m\u001b[1;36m0\u001b[0m\u001b[1;33m:\u001b[0m\u001b[0mi\u001b[0m\u001b[1;33m*\u001b[0m\u001b[1;36m2\u001b[0m\u001b[1;33m]\u001b[0m\u001b[1;33m,\u001b[0m \u001b[0mreg\u001b[0m\u001b[1;33m)\u001b[0m\u001b[1;33m[\u001b[0m\u001b[1;36m0\u001b[0m\u001b[1;33m]\u001b[0m\u001b[1;33m\u001b[0m\u001b[0m\n",
      "\u001b[1;32m<ipython-input-8-1e1da46d99b2>\u001b[0m in \u001b[0;36mparametros\u001b[1;34m(params, input_size, hidden_size, num_labels, X, y, reg)\u001b[0m\n\u001b[0;32m      4\u001b[0m                          num_labels, X, y, reg),\n\u001b[0;32m      5\u001b[0m                          \u001b[0mmethod\u001b[0m\u001b[1;33m=\u001b[0m\u001b[1;34m'TNC'\u001b[0m\u001b[1;33m,\u001b[0m \u001b[0mjac\u001b[0m\u001b[1;33m=\u001b[0m\u001b[1;32mFalse\u001b[0m\u001b[1;33m,\u001b[0m\u001b[1;33m\u001b[0m\u001b[0m\n\u001b[1;32m----> 6\u001b[1;33m                          options={'maxiter': 70})\n\u001b[0m\u001b[0;32m      7\u001b[0m     \u001b[1;32mreturn\u001b[0m \u001b[0mresult\u001b[0m\u001b[1;33m.\u001b[0m\u001b[0mx\u001b[0m\u001b[1;33m\u001b[0m\u001b[0m\n",
      "\u001b[1;32m~\\Anaconda3\\lib\\site-packages\\scipy\\optimize\\_minimize.py\u001b[0m in \u001b[0;36mminimize\u001b[1;34m(fun, x0, args, method, jac, hess, hessp, bounds, constraints, tol, callback, options)\u001b[0m\n\u001b[0;32m    604\u001b[0m     \u001b[1;32melif\u001b[0m \u001b[0mmeth\u001b[0m \u001b[1;33m==\u001b[0m \u001b[1;34m'tnc'\u001b[0m\u001b[1;33m:\u001b[0m\u001b[1;33m\u001b[0m\u001b[0m\n\u001b[0;32m    605\u001b[0m         return _minimize_tnc(fun, x0, args, jac, bounds, callback=callback,\n\u001b[1;32m--> 606\u001b[1;33m                              **options)\n\u001b[0m\u001b[0;32m    607\u001b[0m     \u001b[1;32melif\u001b[0m \u001b[0mmeth\u001b[0m \u001b[1;33m==\u001b[0m \u001b[1;34m'cobyla'\u001b[0m\u001b[1;33m:\u001b[0m\u001b[1;33m\u001b[0m\u001b[0m\n\u001b[0;32m    608\u001b[0m         \u001b[1;32mreturn\u001b[0m \u001b[0m_minimize_cobyla\u001b[0m\u001b[1;33m(\u001b[0m\u001b[0mfun\u001b[0m\u001b[1;33m,\u001b[0m \u001b[0mx0\u001b[0m\u001b[1;33m,\u001b[0m \u001b[0margs\u001b[0m\u001b[1;33m,\u001b[0m \u001b[0mconstraints\u001b[0m\u001b[1;33m,\u001b[0m \u001b[1;33m**\u001b[0m\u001b[0moptions\u001b[0m\u001b[1;33m)\u001b[0m\u001b[1;33m\u001b[0m\u001b[0m\n",
      "\u001b[1;32m~\\Anaconda3\\lib\\site-packages\\scipy\\optimize\\tnc.py\u001b[0m in \u001b[0;36m_minimize_tnc\u001b[1;34m(fun, x0, args, jac, bounds, eps, scale, offset, mesg_num, maxCGit, maxiter, eta, stepmx, accuracy, minfev, ftol, xtol, gtol, rescale, disp, callback, **unknown_options)\u001b[0m\n\u001b[0;32m    407\u001b[0m                                         \u001b[0moffset\u001b[0m\u001b[1;33m,\u001b[0m \u001b[0mmessages\u001b[0m\u001b[1;33m,\u001b[0m \u001b[0mmaxCGit\u001b[0m\u001b[1;33m,\u001b[0m \u001b[0mmaxfun\u001b[0m\u001b[1;33m,\u001b[0m\u001b[1;33m\u001b[0m\u001b[0m\n\u001b[0;32m    408\u001b[0m                                         \u001b[0meta\u001b[0m\u001b[1;33m,\u001b[0m \u001b[0mstepmx\u001b[0m\u001b[1;33m,\u001b[0m \u001b[0maccuracy\u001b[0m\u001b[1;33m,\u001b[0m \u001b[0mfmin\u001b[0m\u001b[1;33m,\u001b[0m \u001b[0mftol\u001b[0m\u001b[1;33m,\u001b[0m\u001b[1;33m\u001b[0m\u001b[0m\n\u001b[1;32m--> 409\u001b[1;33m                                         xtol, pgtol, rescale, callback)\n\u001b[0m\u001b[0;32m    410\u001b[0m \u001b[1;33m\u001b[0m\u001b[0m\n\u001b[0;32m    411\u001b[0m     \u001b[0mfunv\u001b[0m\u001b[1;33m,\u001b[0m \u001b[0mjacv\u001b[0m \u001b[1;33m=\u001b[0m \u001b[0mfunc_and_grad\u001b[0m\u001b[1;33m(\u001b[0m\u001b[0mx\u001b[0m\u001b[1;33m)\u001b[0m\u001b[1;33m\u001b[0m\u001b[0m\n",
      "\u001b[1;32m~\\Anaconda3\\lib\\site-packages\\scipy\\optimize\\tnc.py\u001b[0m in \u001b[0;36mfunc_and_grad\u001b[1;34m(x)\u001b[0m\n\u001b[0;32m    365\u001b[0m         \u001b[1;32mdef\u001b[0m \u001b[0mfunc_and_grad\u001b[0m\u001b[1;33m(\u001b[0m\u001b[0mx\u001b[0m\u001b[1;33m)\u001b[0m\u001b[1;33m:\u001b[0m\u001b[1;33m\u001b[0m\u001b[0m\n\u001b[0;32m    366\u001b[0m             \u001b[0mf\u001b[0m \u001b[1;33m=\u001b[0m \u001b[0mfun\u001b[0m\u001b[1;33m(\u001b[0m\u001b[0mx\u001b[0m\u001b[1;33m,\u001b[0m \u001b[1;33m*\u001b[0m\u001b[0margs\u001b[0m\u001b[1;33m)\u001b[0m\u001b[1;33m\u001b[0m\u001b[0m\n\u001b[1;32m--> 367\u001b[1;33m             \u001b[0mg\u001b[0m \u001b[1;33m=\u001b[0m \u001b[0mapprox_fprime\u001b[0m\u001b[1;33m(\u001b[0m\u001b[0mx\u001b[0m\u001b[1;33m,\u001b[0m \u001b[0mfun\u001b[0m\u001b[1;33m,\u001b[0m \u001b[0mepsilon\u001b[0m\u001b[1;33m,\u001b[0m \u001b[1;33m*\u001b[0m\u001b[0margs\u001b[0m\u001b[1;33m)\u001b[0m\u001b[1;33m\u001b[0m\u001b[0m\n\u001b[0m\u001b[0;32m    368\u001b[0m             \u001b[1;32mreturn\u001b[0m \u001b[0mf\u001b[0m\u001b[1;33m,\u001b[0m \u001b[0mg\u001b[0m\u001b[1;33m\u001b[0m\u001b[0m\n\u001b[0;32m    369\u001b[0m     \u001b[1;32melse\u001b[0m\u001b[1;33m:\u001b[0m\u001b[1;33m\u001b[0m\u001b[0m\n",
      "\u001b[1;32m~\\Anaconda3\\lib\\site-packages\\scipy\\optimize\\optimize.py\u001b[0m in \u001b[0;36mapprox_fprime\u001b[1;34m(xk, f, epsilon, *args)\u001b[0m\n\u001b[0;32m    721\u001b[0m \u001b[1;33m\u001b[0m\u001b[0m\n\u001b[0;32m    722\u001b[0m     \"\"\"\n\u001b[1;32m--> 723\u001b[1;33m     \u001b[1;32mreturn\u001b[0m \u001b[0m_approx_fprime_helper\u001b[0m\u001b[1;33m(\u001b[0m\u001b[0mxk\u001b[0m\u001b[1;33m,\u001b[0m \u001b[0mf\u001b[0m\u001b[1;33m,\u001b[0m \u001b[0mepsilon\u001b[0m\u001b[1;33m,\u001b[0m \u001b[0margs\u001b[0m\u001b[1;33m=\u001b[0m\u001b[0margs\u001b[0m\u001b[1;33m)\u001b[0m\u001b[1;33m\u001b[0m\u001b[0m\n\u001b[0m\u001b[0;32m    724\u001b[0m \u001b[1;33m\u001b[0m\u001b[0m\n\u001b[0;32m    725\u001b[0m \u001b[1;33m\u001b[0m\u001b[0m\n",
      "\u001b[1;32m~\\Anaconda3\\lib\\site-packages\\scipy\\optimize\\optimize.py\u001b[0m in \u001b[0;36m_approx_fprime_helper\u001b[1;34m(xk, f, epsilon, args, f0)\u001b[0m\n\u001b[0;32m    661\u001b[0m         \u001b[0mei\u001b[0m\u001b[1;33m[\u001b[0m\u001b[0mk\u001b[0m\u001b[1;33m]\u001b[0m \u001b[1;33m=\u001b[0m \u001b[1;36m1.0\u001b[0m\u001b[1;33m\u001b[0m\u001b[0m\n\u001b[0;32m    662\u001b[0m         \u001b[0md\u001b[0m \u001b[1;33m=\u001b[0m \u001b[0mepsilon\u001b[0m \u001b[1;33m*\u001b[0m \u001b[0mei\u001b[0m\u001b[1;33m\u001b[0m\u001b[0m\n\u001b[1;32m--> 663\u001b[1;33m         \u001b[0mgrad\u001b[0m\u001b[1;33m[\u001b[0m\u001b[0mk\u001b[0m\u001b[1;33m]\u001b[0m \u001b[1;33m=\u001b[0m \u001b[1;33m(\u001b[0m\u001b[0mf\u001b[0m\u001b[1;33m(\u001b[0m\u001b[1;33m*\u001b[0m\u001b[1;33m(\u001b[0m\u001b[1;33m(\u001b[0m\u001b[0mxk\u001b[0m \u001b[1;33m+\u001b[0m \u001b[0md\u001b[0m\u001b[1;33m,\u001b[0m\u001b[1;33m)\u001b[0m \u001b[1;33m+\u001b[0m \u001b[0margs\u001b[0m\u001b[1;33m)\u001b[0m\u001b[1;33m)\u001b[0m \u001b[1;33m-\u001b[0m \u001b[0mf0\u001b[0m\u001b[1;33m)\u001b[0m \u001b[1;33m/\u001b[0m \u001b[0md\u001b[0m\u001b[1;33m[\u001b[0m\u001b[0mk\u001b[0m\u001b[1;33m]\u001b[0m\u001b[1;33m\u001b[0m\u001b[0m\n\u001b[0m\u001b[0;32m    664\u001b[0m         \u001b[0mei\u001b[0m\u001b[1;33m[\u001b[0m\u001b[0mk\u001b[0m\u001b[1;33m]\u001b[0m \u001b[1;33m=\u001b[0m \u001b[1;36m0.0\u001b[0m\u001b[1;33m\u001b[0m\u001b[0m\n\u001b[0;32m    665\u001b[0m     \u001b[1;32mreturn\u001b[0m \u001b[0mgrad\u001b[0m\u001b[1;33m\u001b[0m\u001b[0m\n",
      "\u001b[1;31mTypeError\u001b[0m: unsupported operand type(s) for -: 'tuple' and 'tuple'"
     ]
    }
   ],
   "source": [
    "test()"
   ]
  },
  {
   "cell_type": "markdown",
   "metadata": {},
   "source": [
    "Como tenemos overfiting, la solución no es aplicar svm."
   ]
  },
  {
   "cell_type": "markdown",
   "metadata": {},
   "source": [
    "Hay overfiting:\n",
    "tres posibles soluciones: aumentar ejemplos de entrenamiento-> no porque los set ya nos los dan determinados\n",
    "reducir numero de features: no lo hacemos, porque no sabemos qué caraterísticas no afectan a la clasidicacion del cancer, no te lo dicen\n",
    "inviable porque hay 10.000 y tendríamos que quitar de 100 en 100-> riesgo de quitar variables buenas\n",
    "aumentar lambda > funciona, disminuye la diferencia entre Jcv y Jt"
   ]
  },
  {
   "cell_type": "markdown",
   "metadata": {},
   "source": [
    "1. reg = 10 -coger ej de train de dos en dos y nodos ocultos = 350 -> aciertos validacion = 86 %  y aciertos entrenamiento = 99%\n",
    "2. reg = 10 -coger ej de train de dos en dos y nodos ocultos = 250 -> aciertos validacion =  86%  y aciertos de entrenamiento = 99%\n",
    "3. reg = 10 -coger ej de train de dos en dos y nodos ocultos = 200 -> aciertos validacion =  %  y aciertos de entrenamiento = %\n",
    "4. reg = 10 -coger ej de train de dos en dos y nodos ocultos = 100 -> aciertos validacion = 84 %  y aciertos de entrenamiento = 99% ->peor tan poco no\n",
    "\n",
    "5. reg = 10 -coger ej de train de tres en tres, para todas iteraciones y nodos ocultos = 250 -> aciertos validacion = 79 %  y aciertos entrenamiento = 89 % -FATAL\n",
    "6. reg = 10 -coger ej de train todos,para todas iteraciones y nodos ocultos = 200 -> aciertos validacion =  84%  y aciertos de entrenamiento = 99%\n",
    "7. "
   ]
  },
  {
   "cell_type": "code",
   "execution_count": null,
   "metadata": {},
   "outputs": [],
   "source": []
  }
 ],
 "metadata": {
  "kernelspec": {
   "display_name": "Python 3",
   "language": "python",
   "name": "python3"
  },
  "language_info": {
   "codemirror_mode": {
    "name": "ipython",
    "version": 3
   },
   "file_extension": ".py",
   "mimetype": "text/x-python",
   "name": "python",
   "nbconvert_exporter": "python",
   "pygments_lexer": "ipython3",
   "version": "3.7.0"
  }
 },
 "nbformat": 4,
 "nbformat_minor": 2
}
