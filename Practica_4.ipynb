{
 "cells": [
  {
   "cell_type": "code",
   "execution_count": 7,
   "metadata": {},
   "outputs": [],
   "source": [
    "import matplotlib.pyplot as pl\n",
    "import numpy as np\n",
    "from pandas.io.parsers import read_csv\n",
    "import scipy.optimize as opt\n",
    "#from sklearn.preprocessing import PolynomialFeatures as pf\n",
    "from scipy.io import loadmat\n",
    "import checkNNGradients"
   ]
  },
  {
   "cell_type": "code",
   "execution_count": 8,
   "metadata": {},
   "outputs": [],
   "source": [
    "def sigmoide(z):\n",
    "    return 1 / (1 + np.exp(-1*z))"
   ]
  },
  {
   "cell_type": "code",
   "execution_count": 9,
   "metadata": {},
   "outputs": [],
   "source": [
    "def derivadaSigmoide(z):\n",
    "    return sigmoide(z)*(1-sigmoide(z))"
   ]
  },
  {
   "cell_type": "code",
   "execution_count": 10,
   "metadata": {},
   "outputs": [],
   "source": [
    "def pesosAleatorios(L_in, L_out):\n",
    "    return np.random.rand(L_out, 1 + L_in) * 0.24 - 0.12"
   ]
  },
  {
   "cell_type": "code",
   "execution_count": 11,
   "metadata": {},
   "outputs": [],
   "source": [
    "def backprop(params_rn, num_entradas, num_ocultas , num_etiquetas , X, y, reg): \n",
    "    theta1 = np.reshape(params_rn[:num_ocultas*(num_entradas + 1)], (num_ocultas, (num_entradas + 1)))\n",
    "\ttheta2 = np.reshape(params_rn[num_ocultas*(num_entradas + 1):], (num_etiquetas, (num_ocultas + 1)))\n",
    "\ty = np.array(y)\n",
    "    # capa oculta\t\n",
    "\tcX = np.matrix(X)\n",
    "\tfilaUnos = np.ones(len(X))\n",
    "\tmX = np.concatenate((filaUnos, cX), axis = 1)\n",
    "\tprint(mX)\n",
    "\tz2 = np.dot(theta1.traspose(), mX)\n",
    "\ta2 = sigmoide(z2)\n",
    "    # capa de salida\n",
    "\tma2 = np.concatenate(([np.ones(len(a2[0]))], np.array(a2)), axis=1)\t\n",
    "\tz3 = np.dot(theta2.traspose(), ma2)\n",
    "\th = sigmoide(z3)\n",
    "\tys = np.zeros(h)\n",
    "\tprint(ys.shape)\n",
    "\tfor i in len(X):\n",
    "\t\ty[i][ys[i]] = 1\n",
    "    #np.put(ys, y[0]-1, np.ones(y[0]).size)\n",
    "    #print(y.shape)\n",
    "    # retro-propagacion\n",
    "\td3 = h - y\n",
    "    #print(h.shape)\n",
    "\tz2prima = derivadaSigmoide(z2)\n",
    "\td2 = (np.dot(theta2.transpose(), d3)[:][1:])*z2prima\n",
    "    #print (d2.shape, a2.transpose().shape, d3.shape,h.transpose().shape)\n",
    "    # regularizacion\n",
    "    #d3r = d3 + reg/float(len(mX)) * theta2\n",
    "    #d2r = d2 + reg/float(len(mX)) * theta1\n",
    "\tgradiente = np.append( np.ravel(np.dot(d2,a2.transpose())), np.ravel(np.dot(d3,h.transpose())) ) *1/float(len(X))\n",
    "    #print gradiente\n",
    "\tregulation = (reg/(float(2*len(X))))*(np.sum(theta1**2) + np.sum(theta2**2))\n",
    "\tlogh = np.log(h)\n",
    "\tlog1h = np.log(1 - h)\n",
    "\tcoste = (1/(float(len(X)))) * np.sum(-y*logh - (1-y)*log1h) + regulation\n",
    "\treturn coste, gradiente"
   ]
  },
  {
   "cell_type": "code",
   "execution_count": 12,
   "metadata": {},
   "outputs": [],
   "source": [
    "def test():\n",
    "    num_entradas = 400\n",
    "    num_ocultas = 25\n",
    "    num_etiquetas = 10\n",
    "    reg = 1\n",
    "    data = loadmat('ex4data1.mat')\n",
    "    y = np.ravel(data ['y'])\n",
    "    X = data ['X']\n",
    "    weights = loadmat( 'ex4weights.mat' )\n",
    "    theta1, theta2 = weights[ 'Theta1' ], weights[ 'Theta2' ]\n",
    "    backprop(np.concatenate((np.ravel(theta1), np.ravel(theta2))), num_entradas, num_ocultas, num_etiquetas, X, y, reg)\n",
    "    #print(checkNNGradients.checkNNGradients(backprop, reg))"
   ]
  },
  {
   "cell_type": "code",
   "execution_count": 13,
   "metadata": {},
   "outputs": [
    {
     "name": "stdout",
     "output_type": "stream",
     "text": [
      "0\n",
      "(25, 5000) (5000, 25) (10, 5000) (5000, 10)\n"
     ]
    }
   ],
   "source": [
    "test()"
   ]
  },
  {
   "cell_type": "code",
   "execution_count": null,
   "metadata": {},
   "outputs": [],
   "source": []
  }
 ],
 "metadata": {
  "kernelspec": {
   "display_name": "Python 3",
   "language": "python",
   "name": "python3"
  },
  "language_info": {
   "codemirror_mode": {
    "name": "ipython",
    "version": 3
   },
   "file_extension": ".py",
   "mimetype": "text/x-python",
   "name": "python",
   "nbconvert_exporter": "python",
   "pygments_lexer": "ipython3",
   "version": "3.7.0"
  }
 },
 "nbformat": 4,
 "nbformat_minor": 2
}
