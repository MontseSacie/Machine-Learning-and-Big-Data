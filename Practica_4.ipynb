{
 "cells": [
  {
   "cell_type": "code",
   "execution_count": 10,
   "metadata": {},
   "outputs": [],
   "source": [
    "import matplotlib.pyplot as pl\n",
    "import numpy as np\n",
    "from pandas.io.parsers import read_csv\n",
    "import scipy.optimize as opt\n",
    "#from sklearn.preprocessing import PolynomialFeatures as pf\n",
    "from scipy.io import loadmat\n",
    "import checkNNGradients"
   ]
  },
  {
   "cell_type": "code",
   "execution_count": 11,
   "metadata": {},
   "outputs": [],
   "source": [
    "def sigmoide(z):\n",
    "    return 1 / (1 + np.exp(-1*z))"
   ]
  },
  {
   "cell_type": "code",
   "execution_count": 12,
   "metadata": {},
   "outputs": [],
   "source": [
    "def derivadaSigmoide(z):\n",
    "    return sigmoide(z)*(1-sigmoide(z))"
   ]
  },
  {
   "cell_type": "code",
   "execution_count": 13,
   "metadata": {},
   "outputs": [],
   "source": [
    "def pesosAleatorios(L_in, L_out):\n",
    "    return np.random.rand(L_out, 1 + L_in) * 0.24 - 0.12"
   ]
  },
  {
   "cell_type": "code",
   "execution_count": 81,
   "metadata": {},
   "outputs": [],
   "source": [
    "def backprop(params_rn, num_entradas, num_ocultas , num_etiquetas , X, y, reg):\n",
    "    \n",
    "    theta1 = np.reshape(params_rn[:num_ocultas*(num_entradas + 1)], (num_ocultas, (num_entradas + 1)))\n",
    "    theta2 = np.reshape(params_rn[num_ocultas*(num_entradas + 1):], (num_etiquetas, (num_ocultas + 1)))\n",
    "    m = len(X)\n",
    "   #Input\n",
    "    ones_columns_input = np.array(np.ones(m))\n",
    "    a1 = np.insert(X, 0,ones_columns_input, axis = 1)\n",
    "    \n",
    "    #hidden_layer\n",
    "    z2 = np.dot(theta1, a1.transpose())\n",
    "    a2 = sigmoide(z2)\n",
    "    one_columns_hidden = np.array(np.ones(m))\n",
    "    a2 = np.insert(a2, 0, one_columns_hidden, axis = 0)\n",
    "                                  \n",
    "    #Output_layer\n",
    "    z3 = np.dot(theta2, a2)\n",
    "    h = sigmoide(z3)\n",
    "    y_converted = np.zeros(h.shape)\n",
    "    for i in range (0,len(X)): \n",
    "        y_converted[np.ravel(y)[i]-1][i] = 1\n",
    "    \n",
    "     #Cost\n",
    "    regulation = (reg/(2*m)) * (np.sum(theta1**2) + np.sum(theta2**2))\n",
    "    J = np.sum(-y_converted * np.log(h) - (1 - y_converted)*np.log(1 - h)) * (1/m)\n",
    "    J_regulated = J + regulation\n",
    "    \n",
    "    # Retro-Propagacion\n",
    "    d3 = h - y_converted\n",
    "    z2 = np.insert(z2, 0, np.ones(m), axis = 0)\n",
    "    z2prima = derivadaSigmoide(z2)\n",
    "    d2 = (np.dot(theta2.transpose(), d3))*z2prima\n",
    "    \n",
    "    #Gradient\n",
    "    delta2 = np.dot(d3,a2.transpose())\n",
    "    delta1 = np.dot(d2, a1)\n",
    "                                  \n",
    "    #Regularization\n",
    "    \n",
    "    D1 = (delta1[1:,:]/m + theta1*reg/m).ravel()\n",
    "    D2 = (delta2/m + theta2*reg/m).ravel()\n",
    "    gradient = np.r_[D1, D2]\n",
    "    \n",
    "    return J_regulated, gradient"
   ]
  },
  {
   "cell_type": "code",
   "execution_count": 82,
   "metadata": {},
   "outputs": [],
   "source": [
    "def test():\n",
    "    num_entradas = 400\n",
    "    num_ocultas = 25\n",
    "    num_etiquetas = 10\n",
    "    reg = 1\n",
    "    data = loadmat('ex4data1.mat')\n",
    "    y = data ['y']\n",
    "    X = data ['X']\n",
    "    weights = loadmat( 'ex4weights.mat' )\n",
    "    theta1, theta2 = weights[ 'Theta1' ], weights[ 'Theta2' ]\n",
    "    coste, gradiente = backprop(np.concatenate((np.ravel(theta1), np.ravel(theta2))), num_entradas, num_ocultas, num_etiquetas, X, y, reg)\n",
    "    checkNNGradients.checkNNGradients(backprop, reg)"
   ]
  },
  {
   "cell_type": "code",
   "execution_count": 83,
   "metadata": {},
   "outputs": [],
   "source": [
    "test()"
   ]
  },
  {
   "cell_type": "code",
   "execution_count": 96,
   "metadata": {},
   "outputs": [
    {
     "name": "stdout",
     "output_type": "stream",
     "text": [
      "(3,) (3,)\n"
     ]
    }
   ],
   "source": [
    "a = np.array([1,2,3])\n",
    "print(a.shape, np.ravel(a).shape)"
   ]
  },
  {
   "cell_type": "code",
   "execution_count": null,
   "metadata": {},
   "outputs": [],
   "source": []
  }
 ],
 "metadata": {
  "kernelspec": {
   "display_name": "Python 3",
   "language": "python",
   "name": "python3"
  },
  "language_info": {
   "codemirror_mode": {
    "name": "ipython",
    "version": 3
   },
   "file_extension": ".py",
   "mimetype": "text/x-python",
   "name": "python",
   "nbconvert_exporter": "python",
   "pygments_lexer": "ipython3",
   "version": "3.7.0"
  }
 },
 "nbformat": 4,
 "nbformat_minor": 2
}
