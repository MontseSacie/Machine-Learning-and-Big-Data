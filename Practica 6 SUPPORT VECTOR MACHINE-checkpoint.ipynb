{
 "cells": [
  {
   "cell_type": "markdown",
   "metadata": {},
   "source": [
    "# PRÁCTICA 6 - SUPPORT VECTOR MACHINE"
   ]
  },
  {
   "cell_type": "markdown",
   "metadata": {},
   "source": [
    "**Step 1** : Import libraries"
   ]
  },
  {
   "cell_type": "code",
   "execution_count": 17,
   "metadata": {},
   "outputs": [
    {
     "ename": "SyntaxError",
     "evalue": "invalid syntax (<ipython-input-17-81ac3fba1e3d>, line 16)",
     "output_type": "error",
     "traceback": [
      "\u001b[1;36m  File \u001b[1;32m\"<ipython-input-17-81ac3fba1e3d>\"\u001b[1;36m, line \u001b[1;32m16\u001b[0m\n\u001b[1;33m    from sklearn import svm.SVC(C=1.0, kernel=’rbf’ , tol=0.001, max_iter= 1)\u001b[0m\n\u001b[1;37m                           ^\u001b[0m\n\u001b[1;31mSyntaxError\u001b[0m\u001b[1;31m:\u001b[0m invalid syntax\n"
     ]
    }
   ],
   "source": [
    "#Allows charts appear in the notebook\n",
    "%matplotlib inline\n",
    "\n",
    "#Libraries for data analysis\n",
    "#from sklearn.preprocessing import PolynomialFeatures as pf\n",
    "from scipy.io import loadmat\n",
    "import numpy as np\n",
    "from pandas.io.parsers import read_csv\n",
    "import scipy.optimize as opt\n",
    "\n",
    "#Libraries for visual representation\n",
    "import matplotlib.pyplot as plt\n",
    "\n",
    "#Libraries for data processing\n",
    "#from sklearn import svm\n",
    "from sklearn import svm"
   ]
  },
  {
   "cell_type": "markdown",
   "metadata": {},
   "source": [
    "### **1.Lineal Kernel:**\n",
    "One of the possibilities is having a group of training examples that can be separated by linear decision boundary,using the support vector machine technique. That is the first case and we are going to use the function provided by sckit-learn to separate data into two groups, optimizing the best decision boundary. \n",
    "we use the  SVM classifier in the next code:"
   ]
  },
  {
   "cell_type": "markdown",
   "metadata": {},
   "source": [
    "**Step 2**: import data, apply lineal_kernel and draw result graphic"
   ]
  },
  {
   "cell_type": "code",
   "execution_count": 18,
   "metadata": {},
   "outputs": [],
   "source": [
    "def Lineal_kernel():\n",
    "    data = loadmat(\"ex6data1.mat\")\n",
    "    y = data[\"y\"]\n",
    "    X = data[\"X\"]\n",
    "    y = np.ravel(y)\n",
    "    X = np.ravel(X)\n",
    "    \n",
    "    #fit the SVM model\n",
    "    svm1 = svm.SVC(kernel=\"linear\", C = 1.0)\n",
    "    svm1.fit(X,y)\n",
    "    \n",
    "    \n",
    "    \n",
    "def grafic_representation(X, svm):\n",
    "     #get the separating hyperlane\n",
    "    w = svm1.coef_[0]\n",
    "    a = -w[0] / w[1]\n",
    "    xx = np.linspace(5, 30)\n",
    "    yy = a * xx -svm.intercept_[0] / w[1]\n",
    "    \n",
    "    #plot the parallels to the separating hyperplane\n",
    "    b = svm1.support_vectors_[0]\n",
    "    yy_1 =  a * xx + (b[1] - a * b[0])\n",
    "    b = svm1.support_vectors_[-1]\n",
    "    yy_2 = a * xx + (b[1] - a * b[0])\n",
    "    \n",
    "    plt.plot(xx, yy,lnewidth=2, color='black')\n",
    "    plt.plot(xx, yy_1, 'k--')\n",
    "    plt.plot(xx, yy_2, 'k--')\n",
    "    plt.scatter(svm1.support_vectors_[:, 0], svm1.support_vectors_[:, 1], s= 80, facecolors ='none')\n",
    "    \n",
    "    #plot the hyperlane\n",
    "    plt.plot(xx, yy, linewidth = 2, color = 'green')\n",
    "    plt.show()\n"
   ]
  },
  {
   "cell_type": "code",
   "execution_count": 19,
   "metadata": {},
   "outputs": [
    {
     "name": "stderr",
     "output_type": "stream",
     "text": [
      "C:\\Users\\apunt\\Anaconda3\\lib\\site-packages\\sklearn\\utils\\validation.py:578: DataConversionWarning: A column-vector y was passed when a 1d array was expected. Please change the shape of y to (n_samples, ), for example using ravel().\n",
      "  y = column_or_1d(y, warn=True)\n"
     ]
    }
   ],
   "source": [
    "Lineal_kernel()"
   ]
  },
  {
   "cell_type": "code",
   "execution_count": null,
   "metadata": {},
   "outputs": [],
   "source": []
  }
 ],
 "metadata": {
  "kernelspec": {
   "display_name": "Python 3",
   "language": "python",
   "name": "python3"
  },
  "language_info": {
   "codemirror_mode": {
    "name": "ipython",
    "version": 3
   },
   "file_extension": ".py",
   "mimetype": "text/x-python",
   "name": "python",
   "nbconvert_exporter": "python",
   "pygments_lexer": "ipython3",
   "version": "3.7.0"
  }
 },
 "nbformat": 4,
 "nbformat_minor": 2
}
