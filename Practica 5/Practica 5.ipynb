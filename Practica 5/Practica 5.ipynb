{
 "cells": [
  {
   "cell_type": "markdown",
   "metadata": {},
   "source": [
    "# PRACTICA 5: REGRESIÓN LINEAL REGULARIZADA, SESGO Y VARIANZA"
   ]
  },
  {
   "cell_type": "markdown",
   "metadata": {},
   "source": [
    "## 1. Regresión Lineal Regularizada"
   ]
  },
  {
   "cell_type": "code",
   "execution_count": 6,
   "metadata": {},
   "outputs": [],
   "source": [
    "import matplotlib.pyplot as plt\n",
    "from mpl_toolkits.mplot3d import Axes3D\n",
    "from matplotlib import cm\n",
    "from matplotlib.figure import Figure\n",
    "import numpy as np\n",
    "from pandas.io.parsers import read_csv\n",
    "import scipy.optimize as opt\n",
    "from scipy.io import loadmat"
   ]
  },
  {
   "cell_type": "code",
   "execution_count": 7,
   "metadata": {},
   "outputs": [],
   "source": [
    "def coste(cThetas, mX, cY, lamb):\n",
    "    cThetas = np.matrix(cThetas).transpose()\n",
    "    m = len(mX)\n",
    "    mX = np.c_[np.ones(mX.shape[0]), mX]\n",
    "    hX = np.dot(mX, cThetas)\n",
    "    vs = (1/(float(2*m))) * np.sum(np.power(hX - cY, 2))\n",
    "    vs = vs + (lamb/float(2*m)) * (np.sum(np.power(cThetas,2)))\n",
    "    return vs\n"
   ]
  },
  {
   "cell_type": "code",
   "execution_count": 8,
   "metadata": {},
   "outputs": [],
   "source": [
    "def gradiente(thetas, mX, cY, lamb):\n",
    "    lThetas = thetas * (lamb/float(mX.shape[0]))\n",
    "    lThetas[0] = 0\n",
    "    thetas = np.matrix(thetas).transpose()\n",
    "    m1X = np.c_[np.ones(mX.shape[0]), mX]\n",
    "    r = (1/float(mX.shape[0])) * (np.ravel(np.dot(m1X.transpose(), np.dot(m1X, thetas) - cY)) + np.ravel(lThetas))\n",
    "    return r"
   ]
  },
  {
   "cell_type": "code",
   "execution_count": 9,
   "metadata": {},
   "outputs": [],
   "source": [
    "def parametros(thetas, mX, mY, lamb):\n",
    "    result = opt.minimize(fun=coste, x0=thetas,\n",
    "                    jac=gradiente,\n",
    "                     args=(mX, mY, lamb),\n",
    "                     method='TNC',\n",
    "                     options={'maxiter': 70})\n",
    "    return result.x"
   ]
  },
  {
   "cell_type": "code",
   "execution_count": 10,
   "metadata": {},
   "outputs": [],
   "source": [
    "def errorHipotesis(cThetas, mX, cY):\n",
    "    cThetas = np.matrix(cThetas).transpose()\n",
    "    m = len(mX)\n",
    "    mX = np.c_[np.ones(mX.shape[0]), mX]\n",
    "    hX = np.dot(mX, cThetas)\n",
    "    return (1/(float(2*m))) * np.sum(np.power(hX - cY, 2))"
   ]
  },
  {
   "cell_type": "code",
   "execution_count": 11,
   "metadata": {},
   "outputs": [],
   "source": [
    "def polDimNormalizado(cM, dim):\n",
    "    pol = np.c_[cM, np.ones((cM.shape[0], dim-1))]\n",
    "    pol = pol.transpose()\n",
    "    for i in range(1, dim):\n",
    "        pol[i] = pol[i-1] * pol[0]\n",
    "    return normalizar(pol.transpose())"
   ]
  },
  {
   "cell_type": "code",
   "execution_count": 12,
   "metadata": {},
   "outputs": [],
   "source": [
    "def normalizar(datos):\n",
    "    mu = []\n",
    "    sigma = []\n",
    "    for j in range(0, len(datos[0])):\n",
    "        mu += [np.mean(datos[:, j])]\n",
    "        sigma += [np.std(datos[:,j])]\n",
    "        datos[:,j] = (datos[:,j]-mu[j])/sigma[j]\n",
    "    return (datos, mu, sigma)"
   ]
  },
  {
   "cell_type": "code",
   "execution_count": 13,
   "metadata": {},
   "outputs": [],
   "source": [
    "def regresion():\n",
    "    data = loadmat('ex5data1.mat')\n",
    "    y = data ['y']\n",
    "    X = data ['X']\n",
    "    yVal = data ['yval']\n",
    "    XVal = data ['Xval']\n",
    "    yTest = data ['ytest']\n",
    "    XTest = data ['Xtest']\n",
    "    thetasZero = (np.matrix(np.zeros(len(X)))).transpose()\n",
    "    nX8, mu, sigma = polDimNormalizado(X, 8)\n",
    "    #thetas = (np.matrix(np.ones(X.shape[1] + 1))).transpose()\n",
    "    thetas = (np.matrix(np.ones(nX8.shape[1] + 1))).transpose()\n",
    "    curvasDeAprendizaje(X, y, XVal, yVal, thetas)\n",
    "    #graficaRegresion(X, y, parametros(thetas, X, y, 0))\n",
    "    graficaRegresion(X, y, parametros(thetas, nX8, y, 0))"
   ]
  },
  {
   "cell_type": "code",
   "execution_count": 14,
   "metadata": {},
   "outputs": [],
   "source": [
    "def curvasDeAprendizaje(X, y, XVal, yVal, thetas):\n",
    "    error = []\n",
    "    errorVal = []\n",
    "    for i in range(1, X.shape[0]):\n",
    "        thetas = parametros(thetas, X[0:i], y[0:i], 0)\n",
    "        error += [errorHipotesis(thetas, X[0:i], y[0:i])]\n",
    "        errorVal += [errorHipotesis(thetas, XVal, yVal)]\n",
    "    graficaCurvaAprendizaje(error, errorVal)"
   ]
  },
  {
   "cell_type": "code",
   "execution_count": 15,
   "metadata": {},
   "outputs": [],
   "source": [
    "def graficaCurvaAprendizaje(error, errorVal):\n",
    "    plt.xlabel('Numero de ejemplos de entrenamiento')\n",
    "    plt.ylabel('Error')\n",
    "    plt.plot(range(len(error)), error, '-', color='blue', label='Entreno')\n",
    "    plt.plot(range(len(errorVal)), errorVal, '-', color='orange', label='Validacion cruzada')\n",
    "    plt.legend()"
   ]
  },
  {
   "cell_type": "code",
   "execution_count": 16,
   "metadata": {},
   "outputs": [],
   "source": [
    "def graficaRegresion(X, y, thetas):\n",
    "    plt.figure()\n",
    "    X = np.ravel(X)\n",
    "    y = np.ravel(y)\n",
    "    plt.scatter(X, y, c=\"red\", marker='X')\n",
    "    minX = min(X)\n",
    "    maxX = max(y)\n",
    "    plt.xlabel('Cambios en el nivel del agua')\n",
    "    plt.ylabel('Agua derramada de la presa')\n",
    "    x = np.matrix(np.linspace(minX, maxX, 10, endpoint=True))\n",
    "    th0 = thetas[0]\n",
    "    xn = polDimNormalizado(X, 8)\n",
    "    xs =  np.tile(xn, (len(thetas), 1))\n",
    "    thetas = np.matrix(thetas)\n",
    "    thetas = np.delete(thetas, 0, 1)\n",
    "    plt.plot(np.ravel(xn), np.ravel(th0 + np.ravel(np.dot(xs, thetas.transpose()))), '-', color = \"blue\")\n",
    "    plt.savefig('minimize.png')"
   ]
  },
  {
   "cell_type": "markdown",
   "metadata": {},
   "source": [
    "Autores: Montserrat Sacie Alcázar y Tomás Golomb Durán"
   ]
  }
 ],
 "metadata": {
  "kernelspec": {
   "display_name": "Python 3",
   "language": "python",
   "name": "python3"
  },
  "language_info": {
   "codemirror_mode": {
    "name": "ipython",
    "version": 3
   },
   "file_extension": ".py",
   "mimetype": "text/x-python",
   "name": "python",
   "nbconvert_exporter": "python",
   "pygments_lexer": "ipython3",
   "version": "3.7.0"
  }
 },
 "nbformat": 4,
 "nbformat_minor": 2
}
