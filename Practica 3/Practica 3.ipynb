{
 "cells": [
  {
   "cell_type": "markdown",
   "metadata": {},
   "source": [
    "# PRACTICA 3: REGRESIÓN LOGÍSTICA MULTICLASE Y REDES NEURONALES"
   ]
  },
  {
   "cell_type": "markdown",
   "metadata": {},
   "source": [
    "## 1. Regresión logística multi-clase"
   ]
  },
  {
   "cell_type": "markdown",
   "metadata": {},
   "source": [
    "Vamos a aplicar regresión logística multivariable para reconocer números a partir de imágenes de estos escritos a mano"
   ]
  },
  {
   "cell_type": "markdown",
   "metadata": {},
   "source": [
    "**Step 1:** imports"
   ]
  },
  {
   "cell_type": "code",
   "execution_count": 1,
   "metadata": {},
   "outputs": [],
   "source": [
    "import matplotlib.pyplot as plt\n",
    "from mpl_toolkits.mplot3d import Axes3D\n",
    "from matplotlib import cm\n",
    "from matplotlib.figure import Figure\n",
    "import numpy as np\n",
    "from pandas.io.parsers import read_csv\n",
    "import scipy.optimize as opt\n",
    "from scipy.io import loadmat"
   ]
  },
  {
   "cell_type": "markdown",
   "metadata": {},
   "source": [
    "**Datos de entrada:** \n",
    "- Ejemplo de entrenamiento: Matriz de píxeles 20 x 20\n",
    "- Datos de entrada : **X** = vector de 400 componentes (equivale a la matriz desplegada)"
   ]
  },
  {
   "cell_type": "markdown",
   "metadata": {},
   "source": [
    "**Step 2**: lectura de datos y aplicar regresión logística"
   ]
  },
  {
   "cell_type": "code",
   "execution_count": 2,
   "metadata": {},
   "outputs": [],
   "source": [
    "def sigmoide(z):\n",
    "    return 1 / (1 + np.exp(-1*z))\n"
   ]
  },
  {
   "cell_type": "code",
   "execution_count": 3,
   "metadata": {},
   "outputs": [],
   "source": [
    "def coste(cThetas, mX, cY, lamb):\n",
    "    cThetas = np.matrix(cThetas).transpose()\n",
    "    gX = sigmoide(np.dot(mX, cThetas))\n",
    "    \n",
    "    s1 = np.dot((np.log(gX)).transpose(), cY)\n",
    "    s2 = np.dot((np.log(1 - gX)).transpose(), 1 - cY)\n",
    "    # Es una matriz de 1x1\n",
    "    vs = np.ravel((-1/float(len(mX)))*(s1 + s2))[0]\n",
    "    vs = vs + (lamb/2*len(mX)) * np.ravel(np.dot(cThetas.transpose(), cThetas))[0]\n",
    "    return vs"
   ]
  },
  {
   "cell_type": "code",
   "execution_count": 4,
   "metadata": {},
   "outputs": [],
   "source": [
    "def gradienteCoste(thetas, mX, cY, lamb):\n",
    "    lThetas = thetas * (lamb/len(mX))\n",
    "    lThetas[0] = 0\n",
    "    thetas = np.matrix(thetas).transpose()\n",
    "    return np.ravel((1/float(len(mX))) * np.dot(mX.transpose(),(sigmoide(np.dot(mX, thetas)) - cY))) + lThetas"
   ]
  },
  {
   "cell_type": "markdown",
   "metadata": {},
   "source": [
    "La siguiente función se aplica para el entrenamiento de los clasificadores:"
   ]
  },
  {
   "cell_type": "code",
   "execution_count": 6,
   "metadata": {},
   "outputs": [],
   "source": [
    "def parametros(thetas, mX, mY, lamb):\n",
    "    result = opt.fmin_tnc(func=coste , x0=thetas, fprime=gradienteCoste , args=(mX, mY, lamb))\n",
    "    return result[0]"
   ]
  },
  {
   "cell_type": "code",
   "execution_count": 7,
   "metadata": {},
   "outputs": [],
   "source": [
    "def evaluacion(cThetas, mX, mY):\n",
    "    h = np.dot(mX, cThetas)\n",
    "    z = sigmoide(h)\n",
    "    z = (np.ravel(z) >= 0.5)\n",
    "    z = (z == np.ravel(mY))\n",
    "    return np.ravel(sum(z)/float(len(z))*100)[0]"
   ]
  },
  {
   "cell_type": "code",
   "execution_count": 9,
   "metadata": {},
   "outputs": [],
   "source": [
    "def oneVsAll(mX, y, num_etiquetas, reg):\n",
    "    thetas = []\n",
    "    perc = []\n",
    "    for i in range(1, num_etiquetas):\n",
    "        cY = (y == i) * 1\n",
    "        thetasZero = (np.matrix(np.zeros(len(mX[0])))).transpose()\n",
    "        aaa = parametros(thetasZero, mX, cY, reg).transpose()\n",
    "        perc += [evaluacion(np.matrix(aaa).transpose(), mX, cY)]\n",
    "        thetas += [aaa]\n",
    "    print (sum(perc)/len(perc))"
   ]
  },
  {
   "cell_type": "markdown",
   "metadata": {},
   "source": [
    "En la siguiente función leemos los datos de entrada y llamamos a la función \"oneVsAll\" que entrena los 10 clasificadores y los aplica sobre los datos  de entrada para su posterior evaluacion con las salidas correspondientes y"
   ]
  },
  {
   "cell_type": "code",
   "execution_count": 10,
   "metadata": {},
   "outputs": [],
   "source": [
    "def regresion():\n",
    "    np.set_printoptions(threshold=np.nan)\n",
    "    data = loadmat('ex3data1.mat')\n",
    "    y = data ['y']\n",
    "    X = data ['X']\n",
    "    oneVsAll(X, y, 10, 0.1)"
   ]
  },
  {
   "cell_type": "code",
   "execution_count": 12,
   "metadata": {},
   "outputs": [
    {
     "name": "stdout",
     "output_type": "stream",
     "text": [
      "93.69777777777777\n"
     ]
    }
   ],
   "source": [
    "regresion()"
   ]
  },
  {
   "cell_type": "markdown",
   "metadata": {},
   "source": [
    "Visualizamos una selección aleatoria de 10 ejemplos de entrenamiento"
   ]
  },
  {
   "cell_type": "code",
   "execution_count": 14,
   "metadata": {},
   "outputs": [
    {
     "data": {
      "text/plain": [
       "(-0.5, 199.5, 19.5, -0.5)"
      ]
     },
     "execution_count": 14,
     "metadata": {},
     "output_type": "execute_result"
    },
    {
     "data": {
      "image/png": "[encoded data removed]",
      "text/plain": [
       "<Figure size 432x288 with 1 Axes>"
      ]
     },
     "metadata": {
      "needs_background": "light"
     },
     "output_type": "display_data"
    }
   ],
   "source": [
    "data = loadmat('ex3data1.mat')\n",
    "y = data ['y']\n",
    "X = data ['X']\n",
    "sample = np.random.choice(X.shape[0],10)\n",
    "plt.imshow(X[sample, : ].reshape(-1, 20).T)\n",
    "plt.axis('off')"
   ]
  },
  {
   "cell_type": "markdown",
   "metadata": {},
   "source": [
    "## 2. REDES NEURONALES"
   ]
  },
  {
   "cell_type": "markdown",
   "metadata": {},
   "source": [
    "La siguiente función carga los datos y estima la salida con la red Neuronal, definida en la función \"estimacionRedNeuronal\""
   ]
  },
  {
   "cell_type": "code",
   "execution_count": 15,
   "metadata": {},
   "outputs": [],
   "source": [
    "def principal():\n",
    "    weights = loadmat(\"ex3weights.mat\")\n",
    "    theta1, theta2 = weights['Theta1'], weights['Theta2']\n",
    "    #theta 1 dimension 25* 401 \n",
    "    # theta 2 dimension 10 * 26\n",
    "    \n",
    "    #cargamos los datos\n",
    "    np.set_printoptions(threshold=np.nan)\n",
    "    data = loadmat('ex3data1.mat')\n",
    "    y = data ['y']\n",
    "    X = data ['X']\n",
    "    \n",
    "    contEstimacionesBuenas = 0\n",
    "    for i in range(0, len(X)-1):\n",
    "        vX  = X[i]\n",
    "        h = estimacionRedNeuronal(vX, theta1, theta2)\n",
    "        #le sumamos 1 a np.argmax[h] porque consideramos que hay 10 salidas del 1 - 10, no del 0 - 9\n",
    "        if(np.argmax(h) + 1 == y[i]):\n",
    "            contEstimacionesBuenas += 1\n",
    "    precision = contEstimacionesBuenas/len(y) * 100\t\t\n",
    "    print(precision)"
   ]
  },
  {
   "cell_type": "code",
   "execution_count": 16,
   "metadata": {},
   "outputs": [],
   "source": [
    "def estimacionRedNeuronal(vX, mthetas1, mthetas2):\n",
    "    cX = np.matrix(vX).transpose()\n",
    "    mX = np.concatenate((np.array([[1]]), np.array(cX)), axis=0)\n",
    "    z2 = np.dot(mthetas1, mX)\n",
    "    #a2 es una matrix de 25 * 1\n",
    "    a2 = sigmoide(z2)\n",
    "    ma2 = np.concatenate((np.array([[1]]), np.array(a2)), axis=0)\t\n",
    "    z3 = np.dot(mthetas2, ma2)\n",
    "    a3 = sigmoide(z3)\n",
    "    return a3"
   ]
  },
  {
   "cell_type": "code",
   "execution_count": 17,
   "metadata": {},
   "outputs": [
    {
     "name": "stdout",
     "output_type": "stream",
     "text": [
      "97.5\n"
     ]
    }
   ],
   "source": [
    "principal()"
   ]
  },
  {
   "cell_type": "markdown",
   "metadata": {},
   "source": [
    "Autores:\n",
    "- Montserrat Sacie Alcázar\n",
    "- Tomás Golomb Durán"
   ]
  }
 ],
 "metadata": {
  "kernelspec": {
   "display_name": "Python 3",
   "language": "python",
   "name": "python3"
  },
  "language_info": {
   "codemirror_mode": {
    "name": "ipython",
    "version": 3
   },
   "file_extension": ".py",
   "mimetype": "text/x-python",
   "name": "python",
   "nbconvert_exporter": "python",
   "pygments_lexer": "ipython3",
   "version": "3.7.0"
  }
 },
 "nbformat": 4,
 "nbformat_minor": 2
}
